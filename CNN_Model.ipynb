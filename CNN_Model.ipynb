{
  "nbformat": 4,
  "nbformat_minor": 0,
  "metadata": {
    "colab": {
      "name": "EMotions_GNet.ipynb",
      "provenance": [],
      "collapsed_sections": []
    },
    "kernelspec": {
      "name": "python3",
      "display_name": "Python 3"
    },
    "accelerator": "GPU"
  },
  "cells": [
    {
      "cell_type": "code",
      "metadata": {
        "id": "4UQYmHsFNiiW",
        "colab_type": "code",
        "outputId": "a2ee69b9-9b4e-4fd3-d522-ff88a42f820d",
        "colab": {
          "base_uri": "https://localhost:8080/",
          "height": 54
        }
      },
      "source": [
        "from google.colab import drive\n",
        "drive.mount('/content/drive')"
      ],
      "execution_count": 0,
      "outputs": [
        {
          "output_type": "stream",
          "text": [
            "Drive already mounted at /content/drive; to attempt to forcibly remount, call drive.mount(\"/content/drive\", force_remount=True).\n"
          ],
          "name": "stdout"
        }
      ]
    },
    {
      "cell_type": "code",
      "metadata": {
        "id": "Li8-faRzNuBV",
        "colab_type": "code",
        "colab": {}
      },
      "source": [
        "import warnings\n",
        "warnings.filterwarnings('ignore')"
      ],
      "execution_count": 0,
      "outputs": []
    },
    {
      "cell_type": "code",
      "metadata": {
        "id": "QWSWNUiGN7AD",
        "colab_type": "code",
        "colab": {}
      },
      "source": [
        "import numpy as np\n",
        "import pandas as pd\n",
        "import matplotlib.pyplot as plt\n",
        "import tensorflow as tf\n",
        "import warnings\n",
        "warnings.filterwarnings('ignore')"
      ],
      "execution_count": 0,
      "outputs": []
    },
    {
      "cell_type": "code",
      "metadata": {
        "id": "pU4EDxuaPwc4",
        "colab_type": "code",
        "colab": {}
      },
      "source": [
        "import cv2\n",
        "import imutils\n",
        "from google.colab.patches import cv2_imshow"
      ],
      "execution_count": 0,
      "outputs": []
    },
    {
      "cell_type": "code",
      "metadata": {
        "id": "vnYhF7DrN9KY",
        "colab_type": "code",
        "outputId": "849a4e9d-ccfc-44ae-a4f2-7b420d7954c4",
        "colab": {
          "base_uri": "https://localhost:8080/",
          "height": 204
        }
      },
      "source": [
        "data = pd.read_csv('/content/drive/My Drive/Facial Expressions/fer2013/fer2013.csv')\n",
        "data.tail()"
      ],
      "execution_count": 0,
      "outputs": [
        {
          "output_type": "execute_result",
          "data": {
            "text/html": [
              "<div>\n",
              "<style scoped>\n",
              "    .dataframe tbody tr th:only-of-type {\n",
              "        vertical-align: middle;\n",
              "    }\n",
              "\n",
              "    .dataframe tbody tr th {\n",
              "        vertical-align: top;\n",
              "    }\n",
              "\n",
              "    .dataframe thead th {\n",
              "        text-align: right;\n",
              "    }\n",
              "</style>\n",
              "<table border=\"1\" class=\"dataframe\">\n",
              "  <thead>\n",
              "    <tr style=\"text-align: right;\">\n",
              "      <th></th>\n",
              "      <th>emotion</th>\n",
              "      <th>pixels</th>\n",
              "      <th>Usage</th>\n",
              "    </tr>\n",
              "  </thead>\n",
              "  <tbody>\n",
              "    <tr>\n",
              "      <th>35882</th>\n",
              "      <td>6</td>\n",
              "      <td>50 36 17 22 23 29 33 39 34 37 37 37 39 43 48 5...</td>\n",
              "      <td>PrivateTest</td>\n",
              "    </tr>\n",
              "    <tr>\n",
              "      <th>35883</th>\n",
              "      <td>3</td>\n",
              "      <td>178 174 172 173 181 188 191 194 196 199 200 20...</td>\n",
              "      <td>PrivateTest</td>\n",
              "    </tr>\n",
              "    <tr>\n",
              "      <th>35884</th>\n",
              "      <td>0</td>\n",
              "      <td>17 17 16 23 28 22 19 17 25 26 20 24 31 19 27 9...</td>\n",
              "      <td>PrivateTest</td>\n",
              "    </tr>\n",
              "    <tr>\n",
              "      <th>35885</th>\n",
              "      <td>3</td>\n",
              "      <td>30 28 28 29 31 30 42 68 79 81 77 67 67 71 63 6...</td>\n",
              "      <td>PrivateTest</td>\n",
              "    </tr>\n",
              "    <tr>\n",
              "      <th>35886</th>\n",
              "      <td>2</td>\n",
              "      <td>19 13 14 12 13 16 21 33 50 57 71 84 97 108 122...</td>\n",
              "      <td>PrivateTest</td>\n",
              "    </tr>\n",
              "  </tbody>\n",
              "</table>\n",
              "</div>"
            ],
            "text/plain": [
              "       emotion                                             pixels        Usage\n",
              "35882        6  50 36 17 22 23 29 33 39 34 37 37 37 39 43 48 5...  PrivateTest\n",
              "35883        3  178 174 172 173 181 188 191 194 196 199 200 20...  PrivateTest\n",
              "35884        0  17 17 16 23 28 22 19 17 25 26 20 24 31 19 27 9...  PrivateTest\n",
              "35885        3  30 28 28 29 31 30 42 68 79 81 77 67 67 71 63 6...  PrivateTest\n",
              "35886        2  19 13 14 12 13 16 21 33 50 57 71 84 97 108 122...  PrivateTest"
            ]
          },
          "metadata": {
            "tags": []
          },
          "execution_count": 138
        }
      ]
    },
    {
      "cell_type": "code",
      "metadata": {
        "id": "bvCZW78SOAE2",
        "colab_type": "code",
        "colab": {}
      },
      "source": [
        "emotions = ['Angry','Disgust', 'Fear', 'Happy', 'Sad', 'Surprise', 'Neutral']"
      ],
      "execution_count": 0,
      "outputs": []
    },
    {
      "cell_type": "code",
      "metadata": {
        "id": "McLmFu5GOEAZ",
        "colab_type": "code",
        "outputId": "5d880a16-4267-4277-eecd-80b3a28fa827",
        "colab": {
          "base_uri": "https://localhost:8080/",
          "height": 221
        }
      },
      "source": [
        "pri_test = data[data['Usage']=='PrivateTest']\n",
        "print(pri_test.shape)\n",
        "pri_test.head()"
      ],
      "execution_count": 0,
      "outputs": [
        {
          "output_type": "stream",
          "text": [
            "(3589, 3)\n"
          ],
          "name": "stdout"
        },
        {
          "output_type": "execute_result",
          "data": {
            "text/html": [
              "<div>\n",
              "<style scoped>\n",
              "    .dataframe tbody tr th:only-of-type {\n",
              "        vertical-align: middle;\n",
              "    }\n",
              "\n",
              "    .dataframe tbody tr th {\n",
              "        vertical-align: top;\n",
              "    }\n",
              "\n",
              "    .dataframe thead th {\n",
              "        text-align: right;\n",
              "    }\n",
              "</style>\n",
              "<table border=\"1\" class=\"dataframe\">\n",
              "  <thead>\n",
              "    <tr style=\"text-align: right;\">\n",
              "      <th></th>\n",
              "      <th>emotion</th>\n",
              "      <th>pixels</th>\n",
              "      <th>Usage</th>\n",
              "    </tr>\n",
              "  </thead>\n",
              "  <tbody>\n",
              "    <tr>\n",
              "      <th>32298</th>\n",
              "      <td>0</td>\n",
              "      <td>170 118 101 88 88 75 78 82 66 74 68 59 63 64 6...</td>\n",
              "      <td>PrivateTest</td>\n",
              "    </tr>\n",
              "    <tr>\n",
              "      <th>32299</th>\n",
              "      <td>5</td>\n",
              "      <td>7 5 8 6 7 3 2 6 5 4 4 5 7 5 5 5 6 7 7 7 10 10 ...</td>\n",
              "      <td>PrivateTest</td>\n",
              "    </tr>\n",
              "    <tr>\n",
              "      <th>32300</th>\n",
              "      <td>6</td>\n",
              "      <td>232 240 241 239 237 235 246 117 24 24 22 13 12...</td>\n",
              "      <td>PrivateTest</td>\n",
              "    </tr>\n",
              "    <tr>\n",
              "      <th>32301</th>\n",
              "      <td>4</td>\n",
              "      <td>200 197 149 139 156 89 111 58 62 95 113 117 11...</td>\n",
              "      <td>PrivateTest</td>\n",
              "    </tr>\n",
              "    <tr>\n",
              "      <th>32302</th>\n",
              "      <td>2</td>\n",
              "      <td>40 28 33 56 45 33 31 78 152 194 200 186 196 20...</td>\n",
              "      <td>PrivateTest</td>\n",
              "    </tr>\n",
              "  </tbody>\n",
              "</table>\n",
              "</div>"
            ],
            "text/plain": [
              "       emotion                                             pixels        Usage\n",
              "32298        0  170 118 101 88 88 75 78 82 66 74 68 59 63 64 6...  PrivateTest\n",
              "32299        5  7 5 8 6 7 3 2 6 5 4 4 5 7 5 5 5 6 7 7 7 10 10 ...  PrivateTest\n",
              "32300        6  232 240 241 239 237 235 246 117 24 24 22 13 12...  PrivateTest\n",
              "32301        4  200 197 149 139 156 89 111 58 62 95 113 117 11...  PrivateTest\n",
              "32302        2  40 28 33 56 45 33 31 78 152 194 200 186 196 20...  PrivateTest"
            ]
          },
          "metadata": {
            "tags": []
          },
          "execution_count": 140
        }
      ]
    },
    {
      "cell_type": "code",
      "metadata": {
        "id": "1lWq3AjuOTY7",
        "colab_type": "code",
        "outputId": "b6eb3a15-16e6-45a7-ba08-b415a92a0c61",
        "colab": {
          "base_uri": "https://localhost:8080/",
          "height": 119
        }
      },
      "source": [
        "pri_labels = pri_test['emotion']\n",
        "pri_labels.head()"
      ],
      "execution_count": 0,
      "outputs": [
        {
          "output_type": "execute_result",
          "data": {
            "text/plain": [
              "32298    0\n",
              "32299    5\n",
              "32300    6\n",
              "32301    4\n",
              "32302    2\n",
              "Name: emotion, dtype: int64"
            ]
          },
          "metadata": {
            "tags": []
          },
          "execution_count": 141
        }
      ]
    },
    {
      "cell_type": "code",
      "metadata": {
        "id": "2RoYHd8SOT_U",
        "colab_type": "code",
        "outputId": "d691f39f-39f2-4620-abbb-09648e1b655c",
        "colab": {
          "base_uri": "https://localhost:8080/",
          "height": 221
        }
      },
      "source": [
        "train = data.iloc[:32298]\n",
        "print(train.shape)\n",
        "train.tail()"
      ],
      "execution_count": 0,
      "outputs": [
        {
          "output_type": "stream",
          "text": [
            "(32298, 3)\n"
          ],
          "name": "stdout"
        },
        {
          "output_type": "execute_result",
          "data": {
            "text/html": [
              "<div>\n",
              "<style scoped>\n",
              "    .dataframe tbody tr th:only-of-type {\n",
              "        vertical-align: middle;\n",
              "    }\n",
              "\n",
              "    .dataframe tbody tr th {\n",
              "        vertical-align: top;\n",
              "    }\n",
              "\n",
              "    .dataframe thead th {\n",
              "        text-align: right;\n",
              "    }\n",
              "</style>\n",
              "<table border=\"1\" class=\"dataframe\">\n",
              "  <thead>\n",
              "    <tr style=\"text-align: right;\">\n",
              "      <th></th>\n",
              "      <th>emotion</th>\n",
              "      <th>pixels</th>\n",
              "      <th>Usage</th>\n",
              "    </tr>\n",
              "  </thead>\n",
              "  <tbody>\n",
              "    <tr>\n",
              "      <th>32293</th>\n",
              "      <td>4</td>\n",
              "      <td>178 176 172 173 173 174 176 173 166 166 206 22...</td>\n",
              "      <td>PublicTest</td>\n",
              "    </tr>\n",
              "    <tr>\n",
              "      <th>32294</th>\n",
              "      <td>3</td>\n",
              "      <td>25 34 42 44 42 47 57 59 59 58 54 51 50 56 63 6...</td>\n",
              "      <td>PublicTest</td>\n",
              "    </tr>\n",
              "    <tr>\n",
              "      <th>32295</th>\n",
              "      <td>4</td>\n",
              "      <td>255 255 255 255 255 255 255 255 255 255 255 25...</td>\n",
              "      <td>PublicTest</td>\n",
              "    </tr>\n",
              "    <tr>\n",
              "      <th>32296</th>\n",
              "      <td>4</td>\n",
              "      <td>33 25 31 36 36 42 69 103 132 163 175 183 187 1...</td>\n",
              "      <td>PublicTest</td>\n",
              "    </tr>\n",
              "    <tr>\n",
              "      <th>32297</th>\n",
              "      <td>4</td>\n",
              "      <td>61 63 59 75 151 159 166 161 143 170 127 131 18...</td>\n",
              "      <td>PublicTest</td>\n",
              "    </tr>\n",
              "  </tbody>\n",
              "</table>\n",
              "</div>"
            ],
            "text/plain": [
              "       emotion                                             pixels       Usage\n",
              "32293        4  178 176 172 173 173 174 176 173 166 166 206 22...  PublicTest\n",
              "32294        3  25 34 42 44 42 47 57 59 59 58 54 51 50 56 63 6...  PublicTest\n",
              "32295        4  255 255 255 255 255 255 255 255 255 255 255 25...  PublicTest\n",
              "32296        4  33 25 31 36 36 42 69 103 132 163 175 183 187 1...  PublicTest\n",
              "32297        4  61 63 59 75 151 159 166 161 143 170 127 131 18...  PublicTest"
            ]
          },
          "metadata": {
            "tags": []
          },
          "execution_count": 142
        }
      ]
    },
    {
      "cell_type": "code",
      "metadata": {
        "id": "s1HESEFUOgNk",
        "colab_type": "code",
        "outputId": "4e95e6ac-7e54-4d7f-c7d9-72f7007cb32b",
        "colab": {
          "base_uri": "https://localhost:8080/",
          "height": 119
        }
      },
      "source": [
        "train_labels = train['emotion']\n",
        "train_labels.tail()"
      ],
      "execution_count": 0,
      "outputs": [
        {
          "output_type": "execute_result",
          "data": {
            "text/plain": [
              "32293    4\n",
              "32294    3\n",
              "32295    4\n",
              "32296    4\n",
              "32297    4\n",
              "Name: emotion, dtype: int64"
            ]
          },
          "metadata": {
            "tags": []
          },
          "execution_count": 143
        }
      ]
    },
    {
      "cell_type": "code",
      "metadata": {
        "id": "Drrxk_fyO21k",
        "colab_type": "code",
        "colab": {}
      },
      "source": [
        "train_pixels=[]"
      ],
      "execution_count": 0,
      "outputs": []
    },
    {
      "cell_type": "code",
      "metadata": {
        "id": "ZTw7vTPuOqBm",
        "colab_type": "code",
        "colab": {}
      },
      "source": [
        "for i in range(len(train)):\n",
        "  x = list((train['pixels'][i].split(\" \")))\n",
        "  x = np.asarray(x, dtype=np.int32)\n",
        "  x = np.reshape(np.ravel(x), (48, 48,1))\n",
        "  train_pixels.append(x)"
      ],
      "execution_count": 0,
      "outputs": []
    },
    {
      "cell_type": "code",
      "metadata": {
        "id": "ihRCqiOsPAB9",
        "colab_type": "code",
        "outputId": "49cdc366-48ba-4f79-9b7a-dfb7fa5d7149",
        "colab": {
          "base_uri": "https://localhost:8080/",
          "height": 34
        }
      },
      "source": [
        "train_pixels[0].shape"
      ],
      "execution_count": 0,
      "outputs": [
        {
          "output_type": "execute_result",
          "data": {
            "text/plain": [
              "(48, 48, 1)"
            ]
          },
          "metadata": {
            "tags": []
          },
          "execution_count": 146
        }
      ]
    },
    {
      "cell_type": "code",
      "metadata": {
        "id": "nsCir4-pPJR3",
        "colab_type": "code",
        "outputId": "2aeff2d7-1d96-49fc-b9b9-f3860c6c13c1",
        "colab": {
          "base_uri": "https://localhost:8080/",
          "height": 34
        }
      },
      "source": [
        "X_train = np.asarray(train_pixels)\n",
        "X_train.shape"
      ],
      "execution_count": 0,
      "outputs": [
        {
          "output_type": "execute_result",
          "data": {
            "text/plain": [
              "(32298, 48, 48, 1)"
            ]
          },
          "metadata": {
            "tags": []
          },
          "execution_count": 147
        }
      ]
    },
    {
      "cell_type": "code",
      "metadata": {
        "id": "8GsjIkr9PMLA",
        "colab_type": "code",
        "colab": {}
      },
      "source": [
        "pri_test_pixels=[]\n",
        "for i in range(32298,len(pri_test)+32298):\n",
        "  x = list((pri_test['pixels'][i].split(\" \")))\n",
        "  x = np.asarray(x, dtype=np.int32)\n",
        "  x = np.reshape(np.ravel(x), (48, 48,1))\n",
        "  pri_test_pixels.append(x)"
      ],
      "execution_count": 0,
      "outputs": []
    },
    {
      "cell_type": "code",
      "metadata": {
        "id": "fQ-KYPSFPeuT",
        "colab_type": "code",
        "outputId": "7bde5f10-9cf5-469b-e144-dd9ed8b538ec",
        "colab": {
          "base_uri": "https://localhost:8080/",
          "height": 34
        }
      },
      "source": [
        "X_test_pri = np.asarray(pri_test_pixels)\n",
        "X_test_pri.shape"
      ],
      "execution_count": 0,
      "outputs": [
        {
          "output_type": "execute_result",
          "data": {
            "text/plain": [
              "(3589, 48, 48, 1)"
            ]
          },
          "metadata": {
            "tags": []
          },
          "execution_count": 149
        }
      ]
    },
    {
      "cell_type": "code",
      "metadata": {
        "id": "7siayYynQgo6",
        "colab_type": "code",
        "outputId": "b1611bc5-0868-4de9-f82e-d1ed8384788d",
        "colab": {
          "base_uri": "https://localhost:8080/",
          "height": 34
        }
      },
      "source": [
        "X_train[0].shape[0]"
      ],
      "execution_count": 0,
      "outputs": [
        {
          "output_type": "execute_result",
          "data": {
            "text/plain": [
              "48"
            ]
          },
          "metadata": {
            "tags": []
          },
          "execution_count": 150
        }
      ]
    },
    {
      "cell_type": "code",
      "metadata": {
        "id": "7t7ciAnkYqAf",
        "colab_type": "code",
        "colab": {}
      },
      "source": [
        "X_train = X_train/255.0\n",
        "X_test_pri = X_test_pri/255.0"
      ],
      "execution_count": 0,
      "outputs": []
    },
    {
      "cell_type": "code",
      "metadata": {
        "id": "oeS9oOGRbqzK",
        "colab_type": "code",
        "outputId": "162c6460-ba1c-4483-8082-35c062ecc38a",
        "colab": {
          "base_uri": "https://localhost:8080/",
          "height": 34
        }
      },
      "source": [
        "train_labels.shape"
      ],
      "execution_count": 0,
      "outputs": [
        {
          "output_type": "execute_result",
          "data": {
            "text/plain": [
              "(32298,)"
            ]
          },
          "metadata": {
            "tags": []
          },
          "execution_count": 152
        }
      ]
    },
    {
      "cell_type": "code",
      "metadata": {
        "id": "x1EgJgfPYhJw",
        "colab_type": "code",
        "colab": {}
      },
      "source": [
        "from keras.utils import to_categorical\n",
        "train_labels = to_categorical(train_labels)\n",
        "pri_labels = to_categorical(pri_labels)"
      ],
      "execution_count": 0,
      "outputs": []
    },
    {
      "cell_type": "code",
      "metadata": {
        "id": "1cen7khHbzRa",
        "colab_type": "code",
        "outputId": "08220e9a-617c-494a-fb14-61c8d5580c7a",
        "colab": {
          "base_uri": "https://localhost:8080/",
          "height": 34
        }
      },
      "source": [
        "train_labels[0].shape"
      ],
      "execution_count": 0,
      "outputs": [
        {
          "output_type": "execute_result",
          "data": {
            "text/plain": [
              "(7,)"
            ]
          },
          "metadata": {
            "tags": []
          },
          "execution_count": 154
        }
      ]
    },
    {
      "cell_type": "code",
      "metadata": {
        "id": "oSIfmemVUGQu",
        "colab_type": "code",
        "colab": {}
      },
      "source": [
        "from keras.layers import Activation, Convolution2D, Dropout, Conv2D\n",
        "from keras.layers import AveragePooling2D, BatchNormalization\n",
        "from keras.layers import GlobalAveragePooling2D\n",
        "from keras.models import Sequential\n",
        "from keras.layers import Flatten\n",
        "from keras.models import Model\n",
        "from keras.layers import Input\n",
        "from keras.layers import MaxPooling2D\n",
        "from keras.layers import SeparableConv2D\n",
        "from keras import layers\n",
        "import keras\n",
        "from keras.layers import Dropout\n",
        "from keras.regularizers import l2"
      ],
      "execution_count": 0,
      "outputs": []
    },
    {
      "cell_type": "code",
      "metadata": {
        "id": "7dddyrl0YEGr",
        "colab_type": "code",
        "colab": {}
      },
      "source": [
        "def cnn(input_shape, classes, l2_reg=0.01):\n",
        "    reg = l2(l2_reg)\n",
        "\n",
        "    \n",
        "    img_input = Input(input_shape)\n",
        "    x = Conv2D(8, (3, 3), strides=(1, 1), kernel_regularizer=regularization,\n",
        "               use_bias=False)(img_input)\n",
        "    x = BatchNormalization()(x)\n",
        "    x = Activation('relu')(x)\n",
        "    x = (Dropout(0.7))(x)\n",
        "    x = Conv2D(8, (3, 3), strides=(1, 1), kernel_regularizer=regularization,\n",
        "               use_bias=False)(x)\n",
        "    x = BatchNormalization()(x)\n",
        "    x = Activation('relu')(x)\n",
        "\n",
        "    \n",
        "    residual = Conv2D(16, (1, 1), strides=(2, 2),\n",
        "                      padding='same', use_bias=False)(x)\n",
        "    residual = BatchNormalization()(residual)\n",
        "    x = (Dropout(0.7))(x)\n",
        "    x = SeparableConv2D(16, (3, 3), padding='same',\n",
        "                        kernel_regularizer=regularization,\n",
        "                        use_bias=False)(x)\n",
        "    x = BatchNormalization()(x)\n",
        "    x = Activation('relu')(x)\n",
        "    x = SeparableConv2D(16, (3, 3), padding='same',\n",
        "                        kernel_regularizer=regularization,\n",
        "                        use_bias=False)(x)\n",
        "    x = BatchNormalization()(x)\n",
        "\n",
        "    x = MaxPooling2D((3, 3), strides=(2, 2), padding='same')(x)\n",
        "    x = layers.add([x, residual])\n",
        "\n",
        "     \n",
        "    x = (Dropout(0.7))(x)\n",
        "    residual = Conv2D(32, (1, 1), strides=(2, 2),\n",
        "                      padding='same', use_bias=False)(x)\n",
        "    residual = BatchNormalization()(residual)\n",
        "\n",
        "    x = SeparableConv2D(32, (3, 3), padding='same',\n",
        "                        kernel_regularizer=regularization,\n",
        "                        use_bias=False)(x)\n",
        "    x = BatchNormalization()(x)\n",
        "    x = Activation('relu')(x)\n",
        "    x = SeparableConv2D(32, (3, 3), padding='same',\n",
        "                        kernel_regularizer=regularization,\n",
        "                        use_bias=False)(x)\n",
        "    x = BatchNormalization()(x)\n",
        "\n",
        "    x = MaxPooling2D((3, 3), strides=(2, 2), padding='same')(x)\n",
        "    x = layers.add([x, residual])\n",
        "\n",
        "     \n",
        "    x = (Dropout(0.7))(x)\n",
        "    residual = Conv2D(64, (1, 1), strides=(2, 2),\n",
        "                      padding='same', use_bias=False)(x)\n",
        "    residual = BatchNormalization()(residual)\n",
        "\n",
        "    x = SeparableConv2D(64, (3, 3), padding='same',\n",
        "                        kernel_regularizer=regularization,\n",
        "                        use_bias=False)(x)\n",
        "    x = BatchNormalization()(x)\n",
        "    x = Activation('relu')(x)\n",
        "    x = SeparableConv2D(64, (3, 3), padding='same',\n",
        "                        kernel_regularizer=regularization,\n",
        "                        use_bias=False)(x)\n",
        "    x = BatchNormalization()(x)\n",
        "\n",
        "    x = MaxPooling2D((3, 3), strides=(2, 2), padding='same')(x)\n",
        "    x = layers.add([x, residual])\n",
        "\n",
        "     \n",
        "    x = (Dropout(0.7))(x)\n",
        "    residual = Conv2D(128, (1, 1), strides=(2, 2),\n",
        "                      padding='same', use_bias=False)(x)\n",
        "    residual = BatchNormalization()(residual)\n",
        "\n",
        "    x = SeparableConv2D(128, (3, 3), padding='same',\n",
        "                        kernel_regularizer=regularization,\n",
        "                        use_bias=False)(x)\n",
        "    x = BatchNormalization()(x)\n",
        "    x = Activation('relu')(x)\n",
        "    x = SeparableConv2D(128, (3, 3), padding='same',\n",
        "                        kernel_regularizer=regularization,\n",
        "                        use_bias=False)(x)\n",
        "    x = BatchNormalization()(x)\n",
        "\n",
        "    x = MaxPooling2D((3, 3), strides=(2, 2), padding='same')(x)\n",
        "    x = layers.add([x, residual])\n",
        "\n",
        "    x = Conv2D(num_classes, (3, 3),\n",
        "               \n",
        "               padding='same')(x)\n",
        "    x = GlobalAveragePooling2D()(x)\n",
        "    output = Activation('softmax', name='predictions')(x)\n",
        "\n",
        "    model = Model(img_input, output)\n",
        "    return model"
      ],
      "execution_count": 0,
      "outputs": []
    },
    {
      "cell_type": "code",
      "metadata": {
        "id": "HJWqL4rRZ4UA",
        "colab_type": "code",
        "colab": {}
      },
      "source": [
        "model = cnn(X_train.shape[1:],len(emotions),0.001)"
      ],
      "execution_count": 0,
      "outputs": []
    },
    {
      "cell_type": "code",
      "metadata": {
        "id": "BcVtdTeRaA3u",
        "colab_type": "code",
        "colab": {}
      },
      "source": [
        "adam = keras.optimizers.Adam(0.001)\n",
        "model.compile(loss='categorical_crossentropy',optimizer=adam,metrics=['accuracy'])"
      ],
      "execution_count": 0,
      "outputs": []
    },
    {
      "cell_type": "code",
      "metadata": {
        "id": "jfExQZ1UaMQW",
        "colab_type": "code",
        "outputId": "6cb83903-1815-4e4f-c7cf-ae8b54699a19",
        "colab": {
          "base_uri": "https://localhost:8080/",
          "height": 1000
        }
      },
      "source": [
        "model.fit(X_train, train_labels, epochs=100, batch_size=256)"
      ],
      "execution_count": 0,
      "outputs": [
        {
          "output_type": "stream",
          "text": [
            "Epoch 1/100\n",
            "32298/32298 [==============================] - 31s 969us/step - loss: 1.8833 - acc: 0.2179\n",
            "Epoch 2/100\n",
            "32298/32298 [==============================] - 25s 759us/step - loss: 1.8372 - acc: 0.2330\n",
            "Epoch 3/100\n",
            "32298/32298 [==============================] - 25s 759us/step - loss: 1.8170 - acc: 0.2413\n",
            "Epoch 4/100\n",
            "32298/32298 [==============================] - 25s 763us/step - loss: 1.8071 - acc: 0.2465\n",
            "Epoch 5/100\n",
            "32298/32298 [==============================] - 25s 761us/step - loss: 1.8013 - acc: 0.2498\n",
            "Epoch 6/100\n",
            "32298/32298 [==============================] - 25s 762us/step - loss: 1.7937 - acc: 0.2531\n",
            "Epoch 7/100\n",
            "32298/32298 [==============================] - 25s 759us/step - loss: 1.7865 - acc: 0.2607\n",
            "Epoch 8/100\n",
            "32298/32298 [==============================] - 25s 759us/step - loss: 1.7787 - acc: 0.2647\n",
            "Epoch 9/100\n",
            "32298/32298 [==============================] - 25s 759us/step - loss: 1.7665 - acc: 0.2787\n",
            "Epoch 10/100\n",
            "32298/32298 [==============================] - 24s 758us/step - loss: 1.7591 - acc: 0.2852\n",
            "Epoch 11/100\n",
            "32298/32298 [==============================] - 25s 760us/step - loss: 1.7432 - acc: 0.2961\n",
            "Epoch 12/100\n",
            "32298/32298 [==============================] - 25s 761us/step - loss: 1.7339 - acc: 0.3038\n",
            "Epoch 13/100\n",
            "32298/32298 [==============================] - 25s 759us/step - loss: 1.7172 - acc: 0.3102\n",
            "Epoch 14/100\n",
            "32298/32298 [==============================] - 24s 758us/step - loss: 1.7058 - acc: 0.3210\n",
            "Epoch 15/100\n",
            "32298/32298 [==============================] - 25s 760us/step - loss: 1.6922 - acc: 0.3267\n",
            "Epoch 16/100\n",
            "32298/32298 [==============================] - 25s 760us/step - loss: 1.6802 - acc: 0.3355\n",
            "Epoch 17/100\n",
            "32298/32298 [==============================] - 25s 759us/step - loss: 1.6602 - acc: 0.3444\n",
            "Epoch 18/100\n",
            "32298/32298 [==============================] - 25s 761us/step - loss: 1.6449 - acc: 0.3535\n",
            "Epoch 19/100\n",
            "32298/32298 [==============================] - 25s 762us/step - loss: 1.6254 - acc: 0.3649\n",
            "Epoch 20/100\n",
            "32298/32298 [==============================] - 25s 761us/step - loss: 1.6058 - acc: 0.3707\n",
            "Epoch 21/100\n",
            "32298/32298 [==============================] - 25s 762us/step - loss: 1.5897 - acc: 0.3804\n",
            "Epoch 22/100\n",
            "32298/32298 [==============================] - 25s 760us/step - loss: 1.5685 - acc: 0.3915\n",
            "Epoch 23/100\n",
            "32298/32298 [==============================] - 25s 760us/step - loss: 1.5527 - acc: 0.3998\n",
            "Epoch 24/100\n",
            "32298/32298 [==============================] - 25s 762us/step - loss: 1.5408 - acc: 0.4020\n",
            "Epoch 25/100\n",
            "32298/32298 [==============================] - 25s 762us/step - loss: 1.5268 - acc: 0.4091\n",
            "Epoch 26/100\n",
            "32298/32298 [==============================] - 25s 762us/step - loss: 1.5149 - acc: 0.4165\n",
            "Epoch 27/100\n",
            "32298/32298 [==============================] - 25s 764us/step - loss: 1.5005 - acc: 0.4192\n",
            "Epoch 28/100\n",
            "32298/32298 [==============================] - 25s 762us/step - loss: 1.4946 - acc: 0.4225\n",
            "Epoch 29/100\n",
            "32298/32298 [==============================] - 25s 761us/step - loss: 1.4819 - acc: 0.4302\n",
            "Epoch 30/100\n",
            "32298/32298 [==============================] - 25s 763us/step - loss: 1.4748 - acc: 0.4306\n",
            "Epoch 31/100\n",
            "32298/32298 [==============================] - 25s 764us/step - loss: 1.4705 - acc: 0.4329\n",
            "Epoch 32/100\n",
            "32298/32298 [==============================] - 25s 761us/step - loss: 1.4594 - acc: 0.4369\n",
            "Epoch 33/100\n",
            "32298/32298 [==============================] - 25s 759us/step - loss: 1.4557 - acc: 0.4390\n",
            "Epoch 34/100\n",
            "32298/32298 [==============================] - 25s 761us/step - loss: 1.4454 - acc: 0.4433\n",
            "Epoch 35/100\n",
            "32298/32298 [==============================] - 25s 762us/step - loss: 1.4424 - acc: 0.4406\n",
            "Epoch 36/100\n",
            "32298/32298 [==============================] - 25s 764us/step - loss: 1.4378 - acc: 0.4444\n",
            "Epoch 37/100\n",
            "32298/32298 [==============================] - 25s 760us/step - loss: 1.4321 - acc: 0.4477\n",
            "Epoch 38/100\n",
            "32298/32298 [==============================] - 25s 761us/step - loss: 1.4256 - acc: 0.4520\n",
            "Epoch 39/100\n",
            "32298/32298 [==============================] - 25s 763us/step - loss: 1.4168 - acc: 0.4550\n",
            "Epoch 40/100\n",
            "32298/32298 [==============================] - 25s 762us/step - loss: 1.4131 - acc: 0.4537\n",
            "Epoch 41/100\n",
            "32298/32298 [==============================] - 25s 761us/step - loss: 1.4107 - acc: 0.4556\n",
            "Epoch 42/100\n",
            "32298/32298 [==============================] - 25s 764us/step - loss: 1.4041 - acc: 0.4599\n",
            "Epoch 43/100\n",
            "32298/32298 [==============================] - 25s 762us/step - loss: 1.3985 - acc: 0.4632\n",
            "Epoch 44/100\n",
            "32298/32298 [==============================] - 25s 763us/step - loss: 1.4006 - acc: 0.4620\n",
            "Epoch 45/100\n",
            "32298/32298 [==============================] - 25s 763us/step - loss: 1.3984 - acc: 0.4605\n",
            "Epoch 46/100\n",
            "32298/32298 [==============================] - 25s 762us/step - loss: 1.3911 - acc: 0.4653\n",
            "Epoch 47/100\n",
            "32298/32298 [==============================] - 25s 763us/step - loss: 1.3872 - acc: 0.4668\n",
            "Epoch 48/100\n",
            "32298/32298 [==============================] - 25s 763us/step - loss: 1.3851 - acc: 0.4690\n",
            "Epoch 49/100\n",
            "32298/32298 [==============================] - 25s 763us/step - loss: 1.3782 - acc: 0.4707\n",
            "Epoch 50/100\n",
            "32298/32298 [==============================] - 25s 764us/step - loss: 1.3743 - acc: 0.4763\n",
            "Epoch 51/100\n",
            "32298/32298 [==============================] - 25s 761us/step - loss: 1.3695 - acc: 0.4726\n",
            "Epoch 52/100\n",
            "32298/32298 [==============================] - 25s 762us/step - loss: 1.3656 - acc: 0.4794\n",
            "Epoch 53/100\n",
            "32298/32298 [==============================] - 25s 761us/step - loss: 1.3690 - acc: 0.4756\n",
            "Epoch 54/100\n",
            "32298/32298 [==============================] - 25s 762us/step - loss: 1.3679 - acc: 0.4772\n",
            "Epoch 55/100\n",
            "32298/32298 [==============================] - 25s 761us/step - loss: 1.3608 - acc: 0.4805\n",
            "Epoch 56/100\n",
            "32298/32298 [==============================] - 25s 760us/step - loss: 1.3567 - acc: 0.4793\n",
            "Epoch 57/100\n",
            "32298/32298 [==============================] - 25s 761us/step - loss: 1.3564 - acc: 0.4855\n",
            "Epoch 58/100\n",
            "32298/32298 [==============================] - 25s 762us/step - loss: 1.3532 - acc: 0.4854\n",
            "Epoch 59/100\n",
            "32298/32298 [==============================] - 25s 761us/step - loss: 1.3486 - acc: 0.4829\n",
            "Epoch 60/100\n",
            "32298/32298 [==============================] - 25s 762us/step - loss: 1.3460 - acc: 0.4863\n",
            "Epoch 61/100\n",
            "32298/32298 [==============================] - 25s 762us/step - loss: 1.3437 - acc: 0.4865\n",
            "Epoch 62/100\n",
            "32298/32298 [==============================] - 25s 762us/step - loss: 1.3409 - acc: 0.4879\n",
            "Epoch 63/100\n",
            "32298/32298 [==============================] - 25s 762us/step - loss: 1.3422 - acc: 0.4885\n",
            "Epoch 64/100\n",
            "32298/32298 [==============================] - 25s 761us/step - loss: 1.3402 - acc: 0.4879\n",
            "Epoch 65/100\n",
            "32298/32298 [==============================] - 25s 762us/step - loss: 1.3331 - acc: 0.4881\n",
            "Epoch 66/100\n",
            "32298/32298 [==============================] - 25s 764us/step - loss: 1.3273 - acc: 0.4924\n",
            "Epoch 67/100\n",
            "32298/32298 [==============================] - 25s 765us/step - loss: 1.3282 - acc: 0.4952\n",
            "Epoch 68/100\n",
            "32298/32298 [==============================] - 25s 767us/step - loss: 1.3281 - acc: 0.4920\n",
            "Epoch 69/100\n",
            "32298/32298 [==============================] - 25s 765us/step - loss: 1.3296 - acc: 0.4924\n",
            "Epoch 70/100\n",
            "32298/32298 [==============================] - 25s 764us/step - loss: 1.3299 - acc: 0.4906\n",
            "Epoch 71/100\n",
            "32298/32298 [==============================] - 25s 767us/step - loss: 1.3265 - acc: 0.4928\n",
            "Epoch 72/100\n",
            "32298/32298 [==============================] - 25s 767us/step - loss: 1.3184 - acc: 0.4973\n",
            "Epoch 73/100\n",
            "32298/32298 [==============================] - 25s 766us/step - loss: 1.3161 - acc: 0.5002\n",
            "Epoch 74/100\n",
            "32298/32298 [==============================] - 25s 767us/step - loss: 1.3178 - acc: 0.4963\n",
            "Epoch 75/100\n",
            "32298/32298 [==============================] - 25s 765us/step - loss: 1.3149 - acc: 0.4973\n",
            "Epoch 76/100\n",
            "32298/32298 [==============================] - 25s 765us/step - loss: 1.3074 - acc: 0.5019\n",
            "Epoch 77/100\n",
            "32298/32298 [==============================] - 25s 766us/step - loss: 1.3111 - acc: 0.4995\n",
            "Epoch 78/100\n",
            "32298/32298 [==============================] - 25s 775us/step - loss: 1.3107 - acc: 0.4977\n",
            "Epoch 79/100\n",
            "32298/32298 [==============================] - 25s 766us/step - loss: 1.3103 - acc: 0.4983\n",
            "Epoch 80/100\n",
            "32298/32298 [==============================] - 25s 766us/step - loss: 1.3102 - acc: 0.4997\n",
            "Epoch 81/100\n",
            "32298/32298 [==============================] - 25s 770us/step - loss: 1.3051 - acc: 0.5039\n",
            "Epoch 82/100\n",
            "32298/32298 [==============================] - 25s 771us/step - loss: 1.3003 - acc: 0.5061\n",
            "Epoch 83/100\n",
            "32298/32298 [==============================] - 25s 768us/step - loss: 1.3073 - acc: 0.5008\n",
            "Epoch 84/100\n",
            "32298/32298 [==============================] - 25s 767us/step - loss: 1.2990 - acc: 0.5052\n",
            "Epoch 85/100\n",
            "32298/32298 [==============================] - 25s 768us/step - loss: 1.3032 - acc: 0.5056\n",
            "Epoch 86/100\n",
            "32298/32298 [==============================] - 25s 770us/step - loss: 1.2964 - acc: 0.5046\n",
            "Epoch 87/100\n",
            "32298/32298 [==============================] - 25s 768us/step - loss: 1.2935 - acc: 0.5065\n",
            "Epoch 88/100\n",
            "32298/32298 [==============================] - 25s 767us/step - loss: 1.2998 - acc: 0.5076\n",
            "Epoch 89/100\n",
            "32298/32298 [==============================] - 25s 769us/step - loss: 1.2963 - acc: 0.5073\n",
            "Epoch 90/100\n",
            "32298/32298 [==============================] - 25s 769us/step - loss: 1.2908 - acc: 0.5070\n",
            "Epoch 91/100\n",
            "32298/32298 [==============================] - 25s 767us/step - loss: 1.2940 - acc: 0.5100\n",
            "Epoch 92/100\n",
            "32298/32298 [==============================] - 25s 768us/step - loss: 1.2886 - acc: 0.5082\n",
            "Epoch 93/100\n",
            "32298/32298 [==============================] - 25s 768us/step - loss: 1.2909 - acc: 0.5078\n",
            "Epoch 94/100\n",
            "32298/32298 [==============================] - 25s 768us/step - loss: 1.2888 - acc: 0.5089\n",
            "Epoch 95/100\n",
            "32298/32298 [==============================] - 25s 769us/step - loss: 1.2902 - acc: 0.5087\n",
            "Epoch 96/100\n",
            "32298/32298 [==============================] - 25s 768us/step - loss: 1.2857 - acc: 0.5108\n",
            "Epoch 97/100\n",
            "32298/32298 [==============================] - 25s 777us/step - loss: 1.2867 - acc: 0.5104\n",
            "Epoch 98/100\n",
            "32298/32298 [==============================] - 25s 771us/step - loss: 1.2840 - acc: 0.5101\n",
            "Epoch 99/100\n",
            "32298/32298 [==============================] - 25s 767us/step - loss: 1.2822 - acc: 0.5133\n",
            "Epoch 100/100\n",
            "32298/32298 [==============================] - 25s 767us/step - loss: 1.2840 - acc: 0.5098\n"
          ],
          "name": "stdout"
        },
        {
          "output_type": "execute_result",
          "data": {
            "text/plain": [
              "<keras.callbacks.History at 0x7f55c1d11cf8>"
            ]
          },
          "metadata": {
            "tags": []
          },
          "execution_count": 169
        }
      ]
    },
    {
      "cell_type": "code",
      "metadata": {
        "id": "AUpnrcfFbKcJ",
        "colab_type": "code",
        "colab": {}
      },
      "source": [
        "model.save(\"Emotion_1.h5\")"
      ],
      "execution_count": 0,
      "outputs": []
    },
    {
      "cell_type": "code",
      "metadata": {
        "id": "BxBzYnL7mzI5",
        "colab_type": "code",
        "colab": {}
      },
      "source": [
        "from keras.models import load_model"
      ],
      "execution_count": 0,
      "outputs": []
    },
    {
      "cell_type": "code",
      "metadata": {
        "id": "GZsjH8Nfm49R",
        "colab_type": "code",
        "outputId": "508b7f4c-33a6-4fcb-8653-5d0c379a65a3",
        "colab": {
          "base_uri": "https://localhost:8080/",
          "height": 1000
        }
      },
      "source": [
        "trained_model = load_model('/content/Emotion_1.h5')\n",
        "\n",
        "trained_model.summary()"
      ],
      "execution_count": 0,
      "outputs": [
        {
          "output_type": "stream",
          "text": [
            "Model: \"model_6\"\n",
            "__________________________________________________________________________________________________\n",
            "Layer (type)                    Output Shape         Param #     Connected to                     \n",
            "==================================================================================================\n",
            "input_7 (InputLayer)            (None, 48, 48, 1)    0                                            \n",
            "__________________________________________________________________________________________________\n",
            "conv2d_84 (Conv2D)              (None, 46, 46, 8)    72          input_7[0][0]                    \n",
            "__________________________________________________________________________________________________\n",
            "batch_normalization_80 (BatchNo (None, 46, 46, 8)    32          conv2d_84[0][0]                  \n",
            "__________________________________________________________________________________________________\n",
            "activation_35 (Activation)      (None, 46, 46, 8)    0           batch_normalization_80[0][0]     \n",
            "__________________________________________________________________________________________________\n",
            "dropout_15 (Dropout)            (None, 46, 46, 8)    0           activation_35[0][0]              \n",
            "__________________________________________________________________________________________________\n",
            "conv2d_85 (Conv2D)              (None, 44, 44, 8)    576         dropout_15[0][0]                 \n",
            "__________________________________________________________________________________________________\n",
            "batch_normalization_81 (BatchNo (None, 44, 44, 8)    32          conv2d_85[0][0]                  \n",
            "__________________________________________________________________________________________________\n",
            "activation_36 (Activation)      (None, 44, 44, 8)    0           batch_normalization_81[0][0]     \n",
            "__________________________________________________________________________________________________\n",
            "dropout_16 (Dropout)            (None, 44, 44, 8)    0           activation_36[0][0]              \n",
            "__________________________________________________________________________________________________\n",
            "separable_conv2d_41 (SeparableC (None, 44, 44, 16)   200         dropout_16[0][0]                 \n",
            "__________________________________________________________________________________________________\n",
            "batch_normalization_83 (BatchNo (None, 44, 44, 16)   64          separable_conv2d_41[0][0]        \n",
            "__________________________________________________________________________________________________\n",
            "activation_37 (Activation)      (None, 44, 44, 16)   0           batch_normalization_83[0][0]     \n",
            "__________________________________________________________________________________________________\n",
            "separable_conv2d_42 (SeparableC (None, 44, 44, 16)   400         activation_37[0][0]              \n",
            "__________________________________________________________________________________________________\n",
            "batch_normalization_84 (BatchNo (None, 44, 44, 16)   64          separable_conv2d_42[0][0]        \n",
            "__________________________________________________________________________________________________\n",
            "conv2d_86 (Conv2D)              (None, 22, 22, 16)   128         activation_36[0][0]              \n",
            "__________________________________________________________________________________________________\n",
            "max_pooling2d_43 (MaxPooling2D) (None, 22, 22, 16)   0           batch_normalization_84[0][0]     \n",
            "__________________________________________________________________________________________________\n",
            "batch_normalization_82 (BatchNo (None, 22, 22, 16)   64          conv2d_86[0][0]                  \n",
            "__________________________________________________________________________________________________\n",
            "add_21 (Add)                    (None, 22, 22, 16)   0           max_pooling2d_43[0][0]           \n",
            "                                                                 batch_normalization_82[0][0]     \n",
            "__________________________________________________________________________________________________\n",
            "dropout_17 (Dropout)            (None, 22, 22, 16)   0           add_21[0][0]                     \n",
            "__________________________________________________________________________________________________\n",
            "separable_conv2d_43 (SeparableC (None, 22, 22, 32)   656         dropout_17[0][0]                 \n",
            "__________________________________________________________________________________________________\n",
            "batch_normalization_86 (BatchNo (None, 22, 22, 32)   128         separable_conv2d_43[0][0]        \n",
            "__________________________________________________________________________________________________\n",
            "activation_38 (Activation)      (None, 22, 22, 32)   0           batch_normalization_86[0][0]     \n",
            "__________________________________________________________________________________________________\n",
            "separable_conv2d_44 (SeparableC (None, 22, 22, 32)   1312        activation_38[0][0]              \n",
            "__________________________________________________________________________________________________\n",
            "batch_normalization_87 (BatchNo (None, 22, 22, 32)   128         separable_conv2d_44[0][0]        \n",
            "__________________________________________________________________________________________________\n",
            "conv2d_87 (Conv2D)              (None, 11, 11, 32)   512         dropout_17[0][0]                 \n",
            "__________________________________________________________________________________________________\n",
            "max_pooling2d_44 (MaxPooling2D) (None, 11, 11, 32)   0           batch_normalization_87[0][0]     \n",
            "__________________________________________________________________________________________________\n",
            "batch_normalization_85 (BatchNo (None, 11, 11, 32)   128         conv2d_87[0][0]                  \n",
            "__________________________________________________________________________________________________\n",
            "add_22 (Add)                    (None, 11, 11, 32)   0           max_pooling2d_44[0][0]           \n",
            "                                                                 batch_normalization_85[0][0]     \n",
            "__________________________________________________________________________________________________\n",
            "dropout_18 (Dropout)            (None, 11, 11, 32)   0           add_22[0][0]                     \n",
            "__________________________________________________________________________________________________\n",
            "separable_conv2d_45 (SeparableC (None, 11, 11, 64)   2336        dropout_18[0][0]                 \n",
            "__________________________________________________________________________________________________\n",
            "batch_normalization_89 (BatchNo (None, 11, 11, 64)   256         separable_conv2d_45[0][0]        \n",
            "__________________________________________________________________________________________________\n",
            "activation_39 (Activation)      (None, 11, 11, 64)   0           batch_normalization_89[0][0]     \n",
            "__________________________________________________________________________________________________\n",
            "separable_conv2d_46 (SeparableC (None, 11, 11, 64)   4672        activation_39[0][0]              \n",
            "__________________________________________________________________________________________________\n",
            "batch_normalization_90 (BatchNo (None, 11, 11, 64)   256         separable_conv2d_46[0][0]        \n",
            "__________________________________________________________________________________________________\n",
            "conv2d_88 (Conv2D)              (None, 6, 6, 64)     2048        dropout_18[0][0]                 \n",
            "__________________________________________________________________________________________________\n",
            "max_pooling2d_45 (MaxPooling2D) (None, 6, 6, 64)     0           batch_normalization_90[0][0]     \n",
            "__________________________________________________________________________________________________\n",
            "batch_normalization_88 (BatchNo (None, 6, 6, 64)     256         conv2d_88[0][0]                  \n",
            "__________________________________________________________________________________________________\n",
            "add_23 (Add)                    (None, 6, 6, 64)     0           max_pooling2d_45[0][0]           \n",
            "                                                                 batch_normalization_88[0][0]     \n",
            "__________________________________________________________________________________________________\n",
            "dropout_19 (Dropout)            (None, 6, 6, 64)     0           add_23[0][0]                     \n",
            "__________________________________________________________________________________________________\n",
            "separable_conv2d_47 (SeparableC (None, 6, 6, 128)    8768        dropout_19[0][0]                 \n",
            "__________________________________________________________________________________________________\n",
            "batch_normalization_92 (BatchNo (None, 6, 6, 128)    512         separable_conv2d_47[0][0]        \n",
            "__________________________________________________________________________________________________\n",
            "activation_40 (Activation)      (None, 6, 6, 128)    0           batch_normalization_92[0][0]     \n",
            "__________________________________________________________________________________________________\n",
            "separable_conv2d_48 (SeparableC (None, 6, 6, 128)    17536       activation_40[0][0]              \n",
            "__________________________________________________________________________________________________\n",
            "batch_normalization_93 (BatchNo (None, 6, 6, 128)    512         separable_conv2d_48[0][0]        \n",
            "__________________________________________________________________________________________________\n",
            "conv2d_89 (Conv2D)              (None, 3, 3, 128)    8192        dropout_19[0][0]                 \n",
            "__________________________________________________________________________________________________\n",
            "max_pooling2d_46 (MaxPooling2D) (None, 3, 3, 128)    0           batch_normalization_93[0][0]     \n",
            "__________________________________________________________________________________________________\n",
            "batch_normalization_91 (BatchNo (None, 3, 3, 128)    512         conv2d_89[0][0]                  \n",
            "__________________________________________________________________________________________________\n",
            "add_24 (Add)                    (None, 3, 3, 128)    0           max_pooling2d_46[0][0]           \n",
            "                                                                 batch_normalization_91[0][0]     \n",
            "__________________________________________________________________________________________________\n",
            "conv2d_90 (Conv2D)              (None, 3, 3, 7)      8071        add_24[0][0]                     \n",
            "__________________________________________________________________________________________________\n",
            "global_average_pooling2d_7 (Glo (None, 7)            0           conv2d_90[0][0]                  \n",
            "__________________________________________________________________________________________________\n",
            "predictions (Activation)        (None, 7)            0           global_average_pooling2d_7[0][0] \n",
            "==================================================================================================\n",
            "Total params: 58,423\n",
            "Trainable params: 56,951\n",
            "Non-trainable params: 1,472\n",
            "__________________________________________________________________________________________________\n"
          ],
          "name": "stdout"
        }
      ]
    },
    {
      "cell_type": "code",
      "metadata": {
        "id": "6t3c_fmpnBRo",
        "colab_type": "code",
        "colab": {}
      },
      "source": [
        "pri_pred_load = trained_model.predict(X_test_pri,batch_size=128)"
      ],
      "execution_count": 0,
      "outputs": []
    },
    {
      "cell_type": "code",
      "metadata": {
        "id": "vak9TY3DnLrK",
        "colab_type": "code",
        "colab": {}
      },
      "source": [
        "pri_pred = model.predict(X_test_pri,batch_size=128)"
      ],
      "execution_count": 0,
      "outputs": []
    },
    {
      "cell_type": "code",
      "metadata": {
        "id": "WEj2LFUNnN56",
        "colab_type": "code",
        "outputId": "c115ba6e-6aa4-4fea-a2dc-220c0db4e220",
        "colab": {
          "base_uri": "https://localhost:8080/",
          "height": 34
        }
      },
      "source": [
        "emotions[np.argmax(pri_pred[0])],emotions[np.argmax(pri_pred_load[0])]"
      ],
      "execution_count": 0,
      "outputs": [
        {
          "output_type": "execute_result",
          "data": {
            "text/plain": [
              "('Disgust', 'Disgust')"
            ]
          },
          "metadata": {
            "tags": []
          },
          "execution_count": 175
        }
      ]
    },
    {
      "cell_type": "code",
      "metadata": {
        "id": "ybqQSFUPnbiw",
        "colab_type": "code",
        "colab": {}
      },
      "source": [
        "train_pred = model.predict(X_train,batch_size=128)"
      ],
      "execution_count": 0,
      "outputs": []
    },
    {
      "cell_type": "code",
      "metadata": {
        "id": "PVzqz7aCnV0G",
        "colab_type": "code",
        "outputId": "9b87b4c7-c323-4c8e-af26-7a7aaa1c5847",
        "colab": {
          "base_uri": "https://localhost:8080/",
          "height": 34
        }
      },
      "source": [
        "total =0\n",
        "pred = 0\n",
        "for i in range(len(train_pred)):\n",
        "  y_cap = emotions[np.argmax(train_pred[i])]\n",
        "  y = emotions[np.argmax(train_labels[i])]\n",
        "  if(y==y_cap):\n",
        "    pred = pred + 1\n",
        "  total = total + 1\n",
        "print(\"Training Test Accuracy:\",pred/total*100)"
      ],
      "execution_count": 0,
      "outputs": [
        {
          "output_type": "stream",
          "text": [
            "Training Test Accuracy: 56.41525791070654\n"
          ],
          "name": "stdout"
        }
      ]
    },
    {
      "cell_type": "code",
      "metadata": {
        "id": "PcreGs5rneDy",
        "colab_type": "code",
        "outputId": "6dc857ad-2d18-4002-ec6f-e22e2c0d7906",
        "colab": {
          "base_uri": "https://localhost:8080/",
          "height": 34
        }
      },
      "source": [
        "total =0\n",
        "pred = 0\n",
        "for i in range(len(pri_pred)):\n",
        "  y_cap = emotions[np.argmax(pri_pred[i])]\n",
        "  y = emotions[np.argmax(pri_labels[i])]\n",
        "  if(y==y_cap):\n",
        "    pred = pred + 1\n",
        "  total = total + 1\n",
        "print(\"Private Test Accuracy:\",pred/total*100)"
      ],
      "execution_count": 0,
      "outputs": [
        {
          "output_type": "stream",
          "text": [
            "Private Test Accuracy: 53.246029534689335\n"
          ],
          "name": "stdout"
        }
      ]
    },
    {
      "cell_type": "code",
      "metadata": {
        "id": "LakAfiz9nhMe",
        "colab_type": "code",
        "colab": {}
      },
      "source": [
        ""
      ],
      "execution_count": 0,
      "outputs": []
    }
  ]
}
